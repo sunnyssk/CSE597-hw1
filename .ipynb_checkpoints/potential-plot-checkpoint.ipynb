{
 "cells": [
  {
   "cell_type": "code",
   "execution_count": 3,
   "metadata": {
    "collapsed": true
   },
   "outputs": [],
   "source": [
    "import numpy as np\n",
    "import pandas as pd\n",
    "import matplotlib\n",
    "import matplotlib.pyplot as plt\n",
    "%matplotlib inline"
   ]
  },
  {
   "cell_type": "code",
   "execution_count": 4,
   "metadata": {},
   "outputs": [],
   "source": [
    "table1 = pd.read_table(\"output/potential-iterative-random.txt\", dtype=float, skiprows=[1])\n",
    "nx, ny, nz = list(map(int, table1.columns.values[0].split(' ')))\n",
    "\n",
    "nl = nx * ny\n",
    "\n",
    "table1 = table1.values\n",
    "table1 = table1[(nl * int(nz / 2)):(nl * int(nz / 2 + 1))]\n",
    "arr1 = np.reshape(table1, [ny, nx])\n",
    "\n",
    "table2 = pd.read_table(\"output/potential-direct.txt\", dtype=float, skiprows=[1])\n",
    "table2 = table2.values\n",
    "table2 = table2[(nl * int(nz / 2)):(nl * int(nz / 2 + 1))]\n",
    "arr2 = np.reshape(table2, [ny, nx])"
   ]
  },
  {
   "cell_type": "code",
   "execution_count": 5,
   "metadata": {},
   "outputs": [
    {
     "data": {
      "text/plain": [
       "<matplotlib.image.AxesImage at 0x7fdfbc50c2e8>"
      ]
     },
     "execution_count": 5,
     "metadata": {},
     "output_type": "execute_result"
    },
    {
     "data": {
      "image/png": "[encoded data removed]",
      "text/plain": [
       "<matplotlib.figure.Figure at 0x7fdfbc86c550>"
      ]
     },
     "metadata": {},
     "output_type": "display_data"
    }
   ],
   "source": [
    "plt.figure(figsize=[12, 9])\n",
    "plt.subplot(1, 2, 1)\n",
    "plt.imshow(arr1)\n",
    "plt.subplot(1, 2, 2)\n",
    "plt.imshow(arr2)"
   ]
  },
  {
   "cell_type": "code",
   "execution_count": null,
   "metadata": {
    "collapsed": true
   },
   "outputs": [],
   "source": []
  }
 ],
 "metadata": {
  "kernelspec": {
   "display_name": "Python 3",
   "language": "python",
   "name": "python3"
  },
  "language_info": {
   "codemirror_mode": {
    "name": "ipython",
    "version": 3
   },
   "file_extension": ".py",
   "mimetype": "text/x-python",
   "name": "python",
   "nbconvert_exporter": "python",
   "pygments_lexer": "ipython3",
   "version": "3.6.3"
  }
 },
 "nbformat": 4,
 "nbformat_minor": 2
}
